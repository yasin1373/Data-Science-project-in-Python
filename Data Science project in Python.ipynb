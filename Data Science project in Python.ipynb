{
 "cells": [
  {
   "cell_type": "code",
   "execution_count": null,
   "id": "b9b20759",
   "metadata": {},
   "outputs": [],
   "source": [
    "# Import packages\n",
    "import pandas as pd\n",
    "import numpy as np\n",
    "from sklearn.impute import KNNImputer\n",
    "from sklearn.preprocessing import LabelEncoder, StandardScaler, KBinsDiscretizer  \n",
    "from sklearn.neighbors import LocalOutlierFactor\n",
    "from sklearn.tree import ExtraTreeClassifier\n",
    "from sklearn.preprocessing import OneHotEncoder, OrdinalEncoder\n",
    "from statsmodels.api import OLS\n",
    "\n",
    "# Load and inspect data\n",
    "df = pd.read_excel('data.xlsx')\n",
    "print(df.shape)\n",
    "print(df.isnull().sum())\n",
    "\n",
    "# Data cleaning\n",
    "df.dropna(subset=['num_blocked','thalassemia'], inplace=True)  \n",
    "imputer = KNNImputer()\n",
    "df['num_blocked'] = imputer.fit_transform(df[['num_blocked']])\n",
    "\n",
    "# Encoding  \n",
    "label_encoder = LabelEncoder()\n",
    "df['gender'] = label_encoder.fit_transform(df['gender'])\n",
    "\n",
    "df = df.replace(['Yes'], 1) \n",
    "df = df.replace(['No'], -1)\n",
    "\n",
    "# Detect outliers\n",
    "lof = LocalOutlierFactor()  \n",
    "df['depression_out'] = lof.fit_predict(df[['depression']])\n",
    "df = df[df['depression_out'] != -1]\n",
    "\n",
    "# Feature scaling  \n",
    "standard_scaler = StandardScaler()\n",
    "df['depression'] = standard_scaler.fit_transform(df[['depression']])\n",
    "\n",
    "discretizer = KBinsDiscretizer(n_bins=3, encode='ordinal')\n",
    "df['heart_rate'] = discretizer.fit_transform(df[['heart_rate']]) \n",
    "\n",
    "# Analysis\n",
    "target = 'heart_disease'\n",
    "X = df.drop(target, axis=1)\n",
    "y = df[target]\n",
    "\n",
    "model = ExtraTreeClassifier()\n",
    "model.fit(X, y)\n",
    "print(dict(zip(X.columns, model.feature_importances_)))\n",
    "\n",
    "# Regression example  \n",
    "X = df['TV']\n",
    "y = df['Sales']\n",
    "\n",
    "model = OLS(y, sm.add_constant(X)).fit()\n",
    "print(model.summary())"
   ]
  }
 ],
 "metadata": {
  "kernelspec": {
   "display_name": "Python 3 (ipykernel)",
   "language": "python",
   "name": "python3"
  },
  "language_info": {
   "codemirror_mode": {
    "name": "ipython",
    "version": 3
   },
   "file_extension": ".py",
   "mimetype": "text/x-python",
   "name": "python",
   "nbconvert_exporter": "python",
   "pygments_lexer": "ipython3",
   "version": "3.10.9"
  },
  "vp": {
   "vp_config_version": "1.0.0",
   "vp_menu_width": 273,
   "vp_note_display": false,
   "vp_note_width": 0,
   "vp_position": {
    "width": 278
   },
   "vp_section_display": false,
   "vp_signature": "VisualPython"
  }
 },
 "nbformat": 4,
 "nbformat_minor": 5
}
